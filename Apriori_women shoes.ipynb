{
 "cells": [
  {
   "cell_type": "code",
   "execution_count": 1,
   "metadata": {},
   "outputs": [],
   "source": [
    "import pandas as pd\n",
    "import numpy as np\n",
    "import matplotlib.pyplot as plt"
   ]
  },
  {
   "cell_type": "code",
   "execution_count": 2,
   "metadata": {},
   "outputs": [],
   "source": [
    "Dataset=pd.read_csv('Fint.csv')"
   ]
  },
  {
   "cell_type": "code",
   "execution_count": 3,
   "metadata": {},
   "outputs": [
    {
     "data": {
      "text/html": [
       "<div>\n",
       "<style scoped>\n",
       "    .dataframe tbody tr th:only-of-type {\n",
       "        vertical-align: middle;\n",
       "    }\n",
       "\n",
       "    .dataframe tbody tr th {\n",
       "        vertical-align: top;\n",
       "    }\n",
       "\n",
       "    .dataframe thead th {\n",
       "        text-align: right;\n",
       "    }\n",
       "</style>\n",
       "<table border=\"1\" class=\"dataframe\">\n",
       "  <thead>\n",
       "    <tr style=\"text-align: right;\">\n",
       "      <th></th>\n",
       "      <th>Age</th>\n",
       "      <th>RACE</th>\n",
       "      <th>famsize</th>\n",
       "      <th>INCOME</th>\n",
       "      <th>REGION</th>\n",
       "      <th>categories</th>\n",
       "      <th>colors</th>\n",
       "      <th>prices.amountMax</th>\n",
       "      <th>prices.amountMin</th>\n",
       "      <th>prices.color</th>\n",
       "      <th>prices.isSale</th>\n",
       "      <th>gender</th>\n",
       "    </tr>\n",
       "  </thead>\n",
       "  <tbody>\n",
       "    <tr>\n",
       "      <th>0</th>\n",
       "      <td>29</td>\n",
       "      <td>WHITE</td>\n",
       "      <td>3</td>\n",
       "      <td>MINCOME</td>\n",
       "      <td>MIDWEST</td>\n",
       "      <td>Womens,Shoes,Boots,Journee Collection</td>\n",
       "      <td>Black,Grey,Beige</td>\n",
       "      <td>89.99</td>\n",
       "      <td>67.99</td>\n",
       "      <td>Gray</td>\n",
       "      <td>False</td>\n",
       "      <td>Female</td>\n",
       "    </tr>\n",
       "    <tr>\n",
       "      <th>1</th>\n",
       "      <td>37</td>\n",
       "      <td>BLACK</td>\n",
       "      <td>3</td>\n",
       "      <td>MINCOME</td>\n",
       "      <td>SOUTH</td>\n",
       "      <td>Womens,Shoes,Boots,Journee Collection</td>\n",
       "      <td>Black,Grey,Beige</td>\n",
       "      <td>79.99</td>\n",
       "      <td>59.49</td>\n",
       "      <td>Gray</td>\n",
       "      <td>False</td>\n",
       "      <td>Female</td>\n",
       "    </tr>\n",
       "    <tr>\n",
       "      <th>2</th>\n",
       "      <td>28</td>\n",
       "      <td>WHITE</td>\n",
       "      <td>2</td>\n",
       "      <td>HINCOME</td>\n",
       "      <td>MIDWEST</td>\n",
       "      <td>Womens,Shoes,Boots,Journee Collection</td>\n",
       "      <td>Black,Grey,Beige</td>\n",
       "      <td>79.99</td>\n",
       "      <td>79.99</td>\n",
       "      <td>Camel</td>\n",
       "      <td>False</td>\n",
       "      <td>Female</td>\n",
       "    </tr>\n",
       "    <tr>\n",
       "      <th>3</th>\n",
       "      <td>44</td>\n",
       "      <td>BLACK</td>\n",
       "      <td>2</td>\n",
       "      <td>HINCOME</td>\n",
       "      <td>NORTHEAST</td>\n",
       "      <td>Womens,Shoes,Boots,Journee Collection</td>\n",
       "      <td>Black,Grey,Beige</td>\n",
       "      <td>89.99</td>\n",
       "      <td>67.99</td>\n",
       "      <td>Stone</td>\n",
       "      <td>False</td>\n",
       "      <td>Female</td>\n",
       "    </tr>\n",
       "    <tr>\n",
       "      <th>4</th>\n",
       "      <td>32</td>\n",
       "      <td>WHITE</td>\n",
       "      <td>1</td>\n",
       "      <td>LINCOME</td>\n",
       "      <td>WEST</td>\n",
       "      <td>Womens,Shoes,Boots,Journee Collection</td>\n",
       "      <td>Black,Grey,Beige</td>\n",
       "      <td>79.99</td>\n",
       "      <td>79.99</td>\n",
       "      <td>Black</td>\n",
       "      <td>False</td>\n",
       "      <td>Female</td>\n",
       "    </tr>\n",
       "  </tbody>\n",
       "</table>\n",
       "</div>"
      ],
      "text/plain": [
       "    Age   RACE  famsize   INCOME     REGION  \\\n",
       "0    29  WHITE        3  MINCOME    MIDWEST   \n",
       "1    37  BLACK        3  MINCOME      SOUTH   \n",
       "2    28  WHITE        2  HINCOME    MIDWEST   \n",
       "3    44  BLACK        2  HINCOME  NORTHEAST   \n",
       "4    32  WHITE        1  LINCOME       WEST   \n",
       "\n",
       "                              categories            colors  prices.amountMax  \\\n",
       "0  Womens,Shoes,Boots,Journee Collection  Black,Grey,Beige             89.99   \n",
       "1  Womens,Shoes,Boots,Journee Collection  Black,Grey,Beige             79.99   \n",
       "2  Womens,Shoes,Boots,Journee Collection  Black,Grey,Beige             79.99   \n",
       "3  Womens,Shoes,Boots,Journee Collection  Black,Grey,Beige             89.99   \n",
       "4  Womens,Shoes,Boots,Journee Collection  Black,Grey,Beige             79.99   \n",
       "\n",
       "   prices.amountMin prices.color  prices.isSale  gender  \n",
       "0             67.99         Gray          False  Female  \n",
       "1             59.49         Gray          False  Female  \n",
       "2             79.99        Camel          False  Female  \n",
       "3             67.99        Stone          False  Female  \n",
       "4             79.99        Black          False  Female  "
      ]
     },
     "execution_count": 3,
     "metadata": {},
     "output_type": "execute_result"
    }
   ],
   "source": [
    "Dataset.head()"
   ]
  },
  {
   "cell_type": "code",
   "execution_count": null,
   "metadata": {},
   "outputs": [],
   "source": [
    "pip install mlxtend  "
   ]
  },
  {
   "cell_type": "code",
   "execution_count": null,
   "metadata": {},
   "outputs": [],
   "source": [
    "from mlxtend.frequent_patterns import apriori\n",
    "from mlxtend.frequent_patterns import association_rules"
   ]
  },
  {
   "cell_type": "code",
   "execution_count": null,
   "metadata": {},
   "outputs": [],
   "source": [
    "Dataset.head()"
   ]
  },
  {
   "cell_type": "code",
   "execution_count": null,
   "metadata": {},
   "outputs": [],
   "source": [
    "Dataset.tail()"
   ]
  },
  {
   "cell_type": "code",
   "execution_count": null,
   "metadata": {},
   "outputs": [],
   "source": [
    "Dataset['colors']"
   ]
  },
  {
   "cell_type": "code",
   "execution_count": null,
   "metadata": {},
   "outputs": [],
   "source": [
    "Dataset.colors.unique() "
   ]
  },
  {
   "cell_type": "code",
   "execution_count": null,
   "metadata": {},
   "outputs": [],
   "source": [
    "Dataset.colors.str.split(\",\",expand=True,)"
   ]
  },
  {
   "cell_type": "code",
   "execution_count": null,
   "metadata": {},
   "outputs": [],
   "source": []
  },
  {
   "cell_type": "code",
   "execution_count": 47,
   "metadata": {},
   "outputs": [
    {
     "name": "stdout",
     "output_type": "stream",
     "text": [
      "       INCOME prices.color\n",
      "0     MINCOME         Gray\n",
      "1     MINCOME         Gray\n",
      "2     HINCOME        Camel\n",
      "3     HINCOME        Stone\n",
      "4     LINCOME        Black\n",
      "...       ...          ...\n",
      "2177  LINCOME        Black\n",
      "2178  LINCOME         Navy\n",
      "2179     POOR         Pink\n",
      "2180  MINCOME        Black\n",
      "2181     POOR        Black\n",
      "\n",
      "[2182 rows x 2 columns]\n"
     ]
    }
   ],
   "source": [
    "D2=Dataset.iloc[0:100,0:2]\n",
    "D2=Dataset[['INCOME','prices.color']]\n",
    "print(D2)"
   ]
  },
  {
   "cell_type": "code",
   "execution_count": 48,
   "metadata": {},
   "outputs": [],
   "source": [
    "transactions1 = []\n",
    "for i in range(0, 100):\n",
    "    transactions1.append([str(D2.values[i,j]) for j in range (0,2)])"
   ]
  },
  {
   "cell_type": "code",
   "execution_count": 49,
   "metadata": {},
   "outputs": [],
   "source": [
    "from apyori import apriori\n",
    "rules1 = apriori(transactions=transactions1, min_support = 0.003, min_confidence = 0.2, min_lift = 2, min_length = 2)"
   ]
  },
  {
   "cell_type": "code",
   "execution_count": 50,
   "metadata": {},
   "outputs": [],
   "source": [
    "results1 = list(rules1)"
   ]
  },
  {
   "cell_type": "code",
   "execution_count": 51,
   "metadata": {},
   "outputs": [
    {
     "name": "stdout",
     "output_type": "stream",
     "text": [
      "[RelationRecord(items=frozenset({'NPOOR', 'Black'}), support=0.03, ordered_statistics=[OrderedStatistic(items_base=frozenset({'NPOOR'}), items_add=frozenset({'Black'}), confidence=0.6, lift=2.0689655172413794)]), RelationRecord(items=frozenset({'Blush', 'HINCOME'}), support=0.02, ordered_statistics=[OrderedStatistic(items_base=frozenset({'Blush'}), items_add=frozenset({'HINCOME'}), confidence=0.6666666666666667, lift=2.0833333333333335)]), RelationRecord(items=frozenset({'LINCOME', 'Taupe'}), support=0.05, ordered_statistics=[OrderedStatistic(items_base=frozenset({'LINCOME'}), items_add=frozenset({'Taupe'}), confidence=0.2777777777777778, lift=2.314814814814815), OrderedStatistic(items_base=frozenset({'Taupe'}), items_add=frozenset({'LINCOME'}), confidence=0.4166666666666667, lift=2.314814814814815)]), RelationRecord(items=frozenset({'POOR', 'Silver'}), support=0.01, ordered_statistics=[OrderedStatistic(items_base=frozenset({'Silver'}), items_add=frozenset({'POOR'}), confidence=0.5, lift=2.7777777777777777)])]\n"
     ]
    }
   ],
   "source": [
    "print(results1)"
   ]
  },
  {
   "cell_type": "code",
   "execution_count": 52,
   "metadata": {},
   "outputs": [],
   "source": [
    "def inspect(results1):\n",
    "    lhs         = [tuple(result1[2][0][0])[0] for result1 in results1]\n",
    "    rhs         = [tuple(result1[2][0][1])[0] for result1 in results1]\n",
    "    supports    = [result1[1] for result1 in results1]\n",
    "    confidences = [result1[2][0][2] for result1 in results1]\n",
    "    lifts       = [result1[2][0][3] for result1 in results1]\n",
    "    return list(zip(lhs, rhs, supports, confidences, lifts))\n",
    "resultsinDataFrame = pd.DataFrame(inspect(results1), columns = ['Left Hand Side', 'Right Hand Side', 'Support', 'Confidence', 'Lift'])"
   ]
  },
  {
   "cell_type": "code",
   "execution_count": 53,
   "metadata": {},
   "outputs": [
    {
     "data": {
      "text/html": [
       "<div>\n",
       "<style scoped>\n",
       "    .dataframe tbody tr th:only-of-type {\n",
       "        vertical-align: middle;\n",
       "    }\n",
       "\n",
       "    .dataframe tbody tr th {\n",
       "        vertical-align: top;\n",
       "    }\n",
       "\n",
       "    .dataframe thead th {\n",
       "        text-align: right;\n",
       "    }\n",
       "</style>\n",
       "<table border=\"1\" class=\"dataframe\">\n",
       "  <thead>\n",
       "    <tr style=\"text-align: right;\">\n",
       "      <th></th>\n",
       "      <th>Left Hand Side</th>\n",
       "      <th>Right Hand Side</th>\n",
       "      <th>Support</th>\n",
       "      <th>Confidence</th>\n",
       "      <th>Lift</th>\n",
       "    </tr>\n",
       "  </thead>\n",
       "  <tbody>\n",
       "    <tr>\n",
       "      <th>0</th>\n",
       "      <td>NPOOR</td>\n",
       "      <td>Black</td>\n",
       "      <td>0.03</td>\n",
       "      <td>0.600000</td>\n",
       "      <td>2.068966</td>\n",
       "    </tr>\n",
       "    <tr>\n",
       "      <th>1</th>\n",
       "      <td>Blush</td>\n",
       "      <td>HINCOME</td>\n",
       "      <td>0.02</td>\n",
       "      <td>0.666667</td>\n",
       "      <td>2.083333</td>\n",
       "    </tr>\n",
       "    <tr>\n",
       "      <th>2</th>\n",
       "      <td>LINCOME</td>\n",
       "      <td>Taupe</td>\n",
       "      <td>0.05</td>\n",
       "      <td>0.277778</td>\n",
       "      <td>2.314815</td>\n",
       "    </tr>\n",
       "    <tr>\n",
       "      <th>3</th>\n",
       "      <td>Silver</td>\n",
       "      <td>POOR</td>\n",
       "      <td>0.01</td>\n",
       "      <td>0.500000</td>\n",
       "      <td>2.777778</td>\n",
       "    </tr>\n",
       "  </tbody>\n",
       "</table>\n",
       "</div>"
      ],
      "text/plain": [
       "  Left Hand Side Right Hand Side  Support  Confidence      Lift\n",
       "0          NPOOR           Black     0.03    0.600000  2.068966\n",
       "1          Blush         HINCOME     0.02    0.666667  2.083333\n",
       "2        LINCOME           Taupe     0.05    0.277778  2.314815\n",
       "3         Silver            POOR     0.01    0.500000  2.777778"
      ]
     },
     "execution_count": 53,
     "metadata": {},
     "output_type": "execute_result"
    }
   ],
   "source": [
    "resultsinDataFrame"
   ]
  },
  {
   "cell_type": "code",
   "execution_count": 61,
   "metadata": {},
   "outputs": [
    {
     "name": "stdout",
     "output_type": "stream",
     "text": [
      "     prices.color  gender\n",
      "0            Gray  Female\n",
      "1            Gray  Female\n",
      "2           Camel  Female\n",
      "3           Stone  Female\n",
      "4           Black  Female\n",
      "...           ...     ...\n",
      "2177        Black  Female\n",
      "2178         Navy  Female\n",
      "2179         Pink  Female\n",
      "2180        Black  Female\n",
      "2181        Black  Female\n",
      "\n",
      "[2182 rows x 2 columns]\n"
     ]
    }
   ],
   "source": [
    "D2=Dataset.iloc[0:100,0:2]\n",
    "D2=Dataset[['prices.color', 'gender']]\n",
    "print(D2)"
   ]
  },
  {
   "cell_type": "code",
   "execution_count": 67,
   "metadata": {},
   "outputs": [],
   "source": [
    "transactions1 = []\n",
    "for i in range(0, 100):\n",
    "    transactions1.append([str(D2.values[i,j]) for j in range (0,2)])"
   ]
  },
  {
   "cell_type": "code",
   "execution_count": 68,
   "metadata": {},
   "outputs": [],
   "source": [
    "from apyori import apriori\n",
    "rules1 = apriori(transactions=transactions1, min_support = 0.003, min_confidence = 0.2, min_lift = 2, min_length = 2)"
   ]
  },
  {
   "cell_type": "code",
   "execution_count": 69,
   "metadata": {},
   "outputs": [],
   "source": [
    "results1 = list(rules1)"
   ]
  },
  {
   "cell_type": "code",
   "execution_count": 70,
   "metadata": {},
   "outputs": [
    {
     "name": "stdout",
     "output_type": "stream",
     "text": [
      "[]\n"
     ]
    }
   ],
   "source": [
    "print(results1)"
   ]
  },
  {
   "cell_type": "code",
   "execution_count": 66,
   "metadata": {},
   "outputs": [],
   "source": [
    "def inspect(results1):\n",
    "    lhs         = [tuple(result1[2][0][0])[0] for result1 in results1]\n",
    "    rhs         = [tuple(result1[2][0][1])[0] for result1 in results1]\n",
    "    supports    = [result1[1] for result1 in results1]\n",
    "    confidences = [result1[2][0][2] for result1 in results1]\n",
    "    lifts       = [result1[2][0][3] for result1 in results1]\n",
    "    return list(zip(lhs, rhs, supports, confidences, lifts))\n",
    "resultsinDataFrame = pd.DataFrame(inspect(results1), columns = ['Left Hand Side', 'Right Hand Side', 'Support', 'Confidence', 'Lift'])"
   ]
  },
  {
   "cell_type": "code",
   "execution_count": 60,
   "metadata": {},
   "outputs": [
    {
     "data": {
      "text/html": [
       "<div>\n",
       "<style scoped>\n",
       "    .dataframe tbody tr th:only-of-type {\n",
       "        vertical-align: middle;\n",
       "    }\n",
       "\n",
       "    .dataframe tbody tr th {\n",
       "        vertical-align: top;\n",
       "    }\n",
       "\n",
       "    .dataframe thead th {\n",
       "        text-align: right;\n",
       "    }\n",
       "</style>\n",
       "<table border=\"1\" class=\"dataframe\">\n",
       "  <thead>\n",
       "    <tr style=\"text-align: right;\">\n",
       "      <th></th>\n",
       "      <th>Left Hand Side</th>\n",
       "      <th>Right Hand Side</th>\n",
       "      <th>Support</th>\n",
       "      <th>Confidence</th>\n",
       "      <th>Lift</th>\n",
       "    </tr>\n",
       "  </thead>\n",
       "  <tbody>\n",
       "    <tr>\n",
       "      <th>0</th>\n",
       "      <td>25</td>\n",
       "      <td>Camel</td>\n",
       "      <td>0.02</td>\n",
       "      <td>0.500000</td>\n",
       "      <td>5.555556</td>\n",
       "    </tr>\n",
       "    <tr>\n",
       "      <th>1</th>\n",
       "      <td>26</td>\n",
       "      <td>Taupe</td>\n",
       "      <td>0.02</td>\n",
       "      <td>0.400000</td>\n",
       "      <td>3.333333</td>\n",
       "    </tr>\n",
       "    <tr>\n",
       "      <th>2</th>\n",
       "      <td>Blush</td>\n",
       "      <td>27</td>\n",
       "      <td>0.01</td>\n",
       "      <td>0.333333</td>\n",
       "      <td>4.166667</td>\n",
       "    </tr>\n",
       "    <tr>\n",
       "      <th>3</th>\n",
       "      <td>27</td>\n",
       "      <td>Stone</td>\n",
       "      <td>0.03</td>\n",
       "      <td>0.375000</td>\n",
       "      <td>2.884615</td>\n",
       "    </tr>\n",
       "    <tr>\n",
       "      <th>4</th>\n",
       "      <td>28</td>\n",
       "      <td>Camel</td>\n",
       "      <td>0.01</td>\n",
       "      <td>0.500000</td>\n",
       "      <td>5.555556</td>\n",
       "    </tr>\n",
       "    <tr>\n",
       "      <th>5</th>\n",
       "      <td>28</td>\n",
       "      <td>Red</td>\n",
       "      <td>0.01</td>\n",
       "      <td>0.500000</td>\n",
       "      <td>10.000000</td>\n",
       "    </tr>\n",
       "    <tr>\n",
       "      <th>6</th>\n",
       "      <td>29</td>\n",
       "      <td>Blush</td>\n",
       "      <td>0.01</td>\n",
       "      <td>0.250000</td>\n",
       "      <td>8.333333</td>\n",
       "    </tr>\n",
       "    <tr>\n",
       "      <th>7</th>\n",
       "      <td>30</td>\n",
       "      <td>Gray</td>\n",
       "      <td>0.01</td>\n",
       "      <td>0.500000</td>\n",
       "      <td>2.631579</td>\n",
       "    </tr>\n",
       "    <tr>\n",
       "      <th>8</th>\n",
       "      <td>31</td>\n",
       "      <td>Gray</td>\n",
       "      <td>0.02</td>\n",
       "      <td>0.400000</td>\n",
       "      <td>2.105263</td>\n",
       "    </tr>\n",
       "    <tr>\n",
       "      <th>9</th>\n",
       "      <td>32</td>\n",
       "      <td>Stone</td>\n",
       "      <td>0.01</td>\n",
       "      <td>0.500000</td>\n",
       "      <td>3.846154</td>\n",
       "    </tr>\n",
       "    <tr>\n",
       "      <th>10</th>\n",
       "      <td>34</td>\n",
       "      <td>Blue</td>\n",
       "      <td>0.01</td>\n",
       "      <td>0.500000</td>\n",
       "      <td>25.000000</td>\n",
       "    </tr>\n",
       "    <tr>\n",
       "      <th>11</th>\n",
       "      <td>34</td>\n",
       "      <td>Navy</td>\n",
       "      <td>0.01</td>\n",
       "      <td>0.500000</td>\n",
       "      <td>8.333333</td>\n",
       "    </tr>\n",
       "    <tr>\n",
       "      <th>12</th>\n",
       "      <td>35</td>\n",
       "      <td>Camel</td>\n",
       "      <td>0.02</td>\n",
       "      <td>0.333333</td>\n",
       "      <td>3.703704</td>\n",
       "    </tr>\n",
       "    <tr>\n",
       "      <th>13</th>\n",
       "      <td>36</td>\n",
       "      <td>Black</td>\n",
       "      <td>0.05</td>\n",
       "      <td>0.714286</td>\n",
       "      <td>2.463054</td>\n",
       "    </tr>\n",
       "    <tr>\n",
       "      <th>14</th>\n",
       "      <td>39</td>\n",
       "      <td>Gray</td>\n",
       "      <td>0.03</td>\n",
       "      <td>0.500000</td>\n",
       "      <td>2.631579</td>\n",
       "    </tr>\n",
       "    <tr>\n",
       "      <th>15</th>\n",
       "      <td>40</td>\n",
       "      <td>Stone</td>\n",
       "      <td>0.01</td>\n",
       "      <td>0.500000</td>\n",
       "      <td>3.846154</td>\n",
       "    </tr>\n",
       "    <tr>\n",
       "      <th>16</th>\n",
       "      <td>Silver</td>\n",
       "      <td>41</td>\n",
       "      <td>0.01</td>\n",
       "      <td>0.500000</td>\n",
       "      <td>8.333333</td>\n",
       "    </tr>\n",
       "    <tr>\n",
       "      <th>17</th>\n",
       "      <td>41</td>\n",
       "      <td>Taupe</td>\n",
       "      <td>0.02</td>\n",
       "      <td>0.333333</td>\n",
       "      <td>2.777778</td>\n",
       "    </tr>\n",
       "    <tr>\n",
       "      <th>18</th>\n",
       "      <td>42</td>\n",
       "      <td>Blue</td>\n",
       "      <td>0.01</td>\n",
       "      <td>0.333333</td>\n",
       "      <td>16.666667</td>\n",
       "    </tr>\n",
       "    <tr>\n",
       "      <th>19</th>\n",
       "      <td>42</td>\n",
       "      <td>Navy</td>\n",
       "      <td>0.01</td>\n",
       "      <td>0.333333</td>\n",
       "      <td>5.555556</td>\n",
       "    </tr>\n",
       "    <tr>\n",
       "      <th>20</th>\n",
       "      <td>Silver</td>\n",
       "      <td>43</td>\n",
       "      <td>0.01</td>\n",
       "      <td>0.500000</td>\n",
       "      <td>10.000000</td>\n",
       "    </tr>\n",
       "    <tr>\n",
       "      <th>21</th>\n",
       "      <td>45</td>\n",
       "      <td>Blush</td>\n",
       "      <td>0.01</td>\n",
       "      <td>1.000000</td>\n",
       "      <td>33.333333</td>\n",
       "    </tr>\n",
       "    <tr>\n",
       "      <th>22</th>\n",
       "      <td>46</td>\n",
       "      <td>Gray</td>\n",
       "      <td>0.01</td>\n",
       "      <td>1.000000</td>\n",
       "      <td>5.263158</td>\n",
       "    </tr>\n",
       "  </tbody>\n",
       "</table>\n",
       "</div>"
      ],
      "text/plain": [
       "   Left Hand Side Right Hand Side  Support  Confidence       Lift\n",
       "0              25           Camel     0.02    0.500000   5.555556\n",
       "1              26           Taupe     0.02    0.400000   3.333333\n",
       "2           Blush              27     0.01    0.333333   4.166667\n",
       "3              27           Stone     0.03    0.375000   2.884615\n",
       "4              28           Camel     0.01    0.500000   5.555556\n",
       "5              28             Red     0.01    0.500000  10.000000\n",
       "6              29           Blush     0.01    0.250000   8.333333\n",
       "7              30            Gray     0.01    0.500000   2.631579\n",
       "8              31            Gray     0.02    0.400000   2.105263\n",
       "9              32           Stone     0.01    0.500000   3.846154\n",
       "10             34            Blue     0.01    0.500000  25.000000\n",
       "11             34            Navy     0.01    0.500000   8.333333\n",
       "12             35           Camel     0.02    0.333333   3.703704\n",
       "13             36           Black     0.05    0.714286   2.463054\n",
       "14             39            Gray     0.03    0.500000   2.631579\n",
       "15             40           Stone     0.01    0.500000   3.846154\n",
       "16         Silver              41     0.01    0.500000   8.333333\n",
       "17             41           Taupe     0.02    0.333333   2.777778\n",
       "18             42            Blue     0.01    0.333333  16.666667\n",
       "19             42            Navy     0.01    0.333333   5.555556\n",
       "20         Silver              43     0.01    0.500000  10.000000\n",
       "21             45           Blush     0.01    1.000000  33.333333\n",
       "22             46            Gray     0.01    1.000000   5.263158"
      ]
     },
     "execution_count": 60,
     "metadata": {},
     "output_type": "execute_result"
    }
   ],
   "source": [
    "resultsinDataFrame#color', 'RACE'"
   ]
  },
  {
   "cell_type": "code",
   "execution_count": null,
   "metadata": {},
   "outputs": [],
   "source": [
    "Dataset[' Age']"
   ]
  },
  {
   "cell_type": "code",
   "execution_count": null,
   "metadata": {},
   "outputs": [],
   "source": [
    "D2=Dataset.iloc[0:100,0:2]\n",
    "D2=Dataset[['REGION','prices.color']]\n",
    "print(D2)"
   ]
  },
  {
   "cell_type": "code",
   "execution_count": null,
   "metadata": {},
   "outputs": [],
   "source": [
    "transactions1 = []\n",
    "for i in range(0, 100):\n",
    "    transactions1.append([str(D2.values[i,j]) for j in range (0,2)])"
   ]
  },
  {
   "cell_type": "code",
   "execution_count": null,
   "metadata": {},
   "outputs": [],
   "source": [
    "from apyori import apriori\n",
    "rules1 = apriori(transactions=transactions1, min_support = 0.003, min_confidence = 0.2, min_lift = 2, min_length = 2)"
   ]
  },
  {
   "cell_type": "code",
   "execution_count": null,
   "metadata": {},
   "outputs": [],
   "source": [
    "results1 = list(rules1)"
   ]
  },
  {
   "cell_type": "code",
   "execution_count": null,
   "metadata": {},
   "outputs": [],
   "source": [
    "print(results1)"
   ]
  },
  {
   "cell_type": "code",
   "execution_count": null,
   "metadata": {},
   "outputs": [],
   "source": [
    "def inspect(results1):\n",
    "    lhs         = [tuple(result1[2][0][0])[0] for result1 in results1]\n",
    "    rhs         = [tuple(result1[2][0][1])[0] for result1 in results1]\n",
    "    supports    = [result1[1] for result1 in results1]\n",
    "    confidences = [result1[2][0][2] for result1 in results1]\n",
    "    lifts       = [result1[2][0][3] for result1 in results1]\n",
    "    return list(zip(lhs, rhs, supports, confidences, lifts))\n",
    "resultsinDataFrame = pd.DataFrame(inspect(results1), columns = ['Left Hand Side', 'Right Hand Side', 'Support', 'Confidence', 'Lift'])"
   ]
  },
  {
   "cell_type": "code",
   "execution_count": null,
   "metadata": {},
   "outputs": [],
   "source": [
    "resultsinDataFrame#Age',income"
   ]
  },
  {
   "cell_type": "code",
   "execution_count": 33,
   "metadata": {},
   "outputs": [
    {
     "name": "stdout",
     "output_type": "stream",
     "text": [
      "      prices.amountMax   INCOME\n",
      "0                89.99  MINCOME\n",
      "1                79.99  MINCOME\n",
      "2                79.99  HINCOME\n",
      "3                89.99  HINCOME\n",
      "4                79.99  LINCOME\n",
      "...                ...      ...\n",
      "2177             74.99  LINCOME\n",
      "2178             74.99  LINCOME\n",
      "2179             69.99     POOR\n",
      "2180             69.99  MINCOME\n",
      "2181             69.99     POOR\n",
      "\n",
      "[2182 rows x 2 columns]\n"
     ]
    }
   ],
   "source": [
    "D2=Dataset.iloc[0:100,0:2]\n",
    "D2=Dataset[['prices.amountMax', '']]\n",
    "print(D2)"
   ]
  },
  {
   "cell_type": "code",
   "execution_count": 34,
   "metadata": {},
   "outputs": [],
   "source": [
    "transactions1 = []\n",
    "for i in range(0, 100):\n",
    "    transactions1.append([str(D2.values[i,j]) for j in range (0,2)])"
   ]
  },
  {
   "cell_type": "code",
   "execution_count": 35,
   "metadata": {},
   "outputs": [],
   "source": [
    "from apyori import apriori\n",
    "rules1 = apriori(transactions=transactions1, min_support = 0.003, min_confidence = 0.2, min_lift = 2, min_length = 2)"
   ]
  },
  {
   "cell_type": "code",
   "execution_count": 36,
   "metadata": {},
   "outputs": [],
   "source": [
    "results1 = list(rules1)"
   ]
  },
  {
   "cell_type": "code",
   "execution_count": 37,
   "metadata": {},
   "outputs": [
    {
     "name": "stdout",
     "output_type": "stream",
     "text": [
      "[]\n"
     ]
    }
   ],
   "source": [
    "print(results1)"
   ]
  },
  {
   "cell_type": "code",
   "execution_count": 38,
   "metadata": {},
   "outputs": [],
   "source": [
    "def inspect(results1):\n",
    "    lhs         = [tuple(result1[2][0][0])[0] for result1 in results1]\n",
    "    rhs         = [tuple(result1[2][0][1])[0] for result1 in results1]\n",
    "    supports    = [result1[1] for result1 in results1]\n",
    "    confidences = [result1[2][0][2] for result1 in results1]\n",
    "    lifts       = [result1[2][0][3] for result1 in results1]\n",
    "    return list(zip(lhs, rhs, supports, confidences, lifts))\n",
    "resultsinDataFrame = pd.DataFrame(inspect(results1), columns = ['Left Hand Side', 'Right Hand Side', 'Support', 'Confidence', 'Lift'])"
   ]
  },
  {
   "cell_type": "code",
   "execution_count": 39,
   "metadata": {},
   "outputs": [
    {
     "data": {
      "text/html": [
       "<div>\n",
       "<style scoped>\n",
       "    .dataframe tbody tr th:only-of-type {\n",
       "        vertical-align: middle;\n",
       "    }\n",
       "\n",
       "    .dataframe tbody tr th {\n",
       "        vertical-align: top;\n",
       "    }\n",
       "\n",
       "    .dataframe thead th {\n",
       "        text-align: right;\n",
       "    }\n",
       "</style>\n",
       "<table border=\"1\" class=\"dataframe\">\n",
       "  <thead>\n",
       "    <tr style=\"text-align: right;\">\n",
       "      <th></th>\n",
       "      <th>Left Hand Side</th>\n",
       "      <th>Right Hand Side</th>\n",
       "      <th>Support</th>\n",
       "      <th>Confidence</th>\n",
       "      <th>Lift</th>\n",
       "    </tr>\n",
       "  </thead>\n",
       "  <tbody>\n",
       "  </tbody>\n",
       "</table>\n",
       "</div>"
      ],
      "text/plain": [
       "Empty DataFrame\n",
       "Columns: [Left Hand Side, Right Hand Side, Support, Confidence, Lift]\n",
       "Index: []"
      ]
     },
     "execution_count": 39,
     "metadata": {},
     "output_type": "execute_result"
    }
   ],
   "source": [
    "resultsinDataFrame # prices.amountMax', 'INCOME'"
   ]
  },
  {
   "cell_type": "code",
   "execution_count": null,
   "metadata": {},
   "outputs": [],
   "source": [
    "D2=Dataset.iloc[0:100,0:2]\n",
    "D2=Dataset[[' Age', 'REGION']]\n",
    "print(D2)"
   ]
  },
  {
   "cell_type": "code",
   "execution_count": null,
   "metadata": {},
   "outputs": [],
   "source": [
    "transactions1 = []\n",
    "for i in range(0, 100):\n",
    "    transactions1.append([str(D2.values[i,j]) for j in range (0,2)])"
   ]
  },
  {
   "cell_type": "code",
   "execution_count": null,
   "metadata": {},
   "outputs": [],
   "source": [
    "from apyori import apriori\n",
    "rules1 = apriori(transactions=transactions1, min_support = 0.003, min_confidence = 0.2, min_lift = 2, min_length = 2)"
   ]
  },
  {
   "cell_type": "code",
   "execution_count": null,
   "metadata": {},
   "outputs": [],
   "source": [
    "print(rules1)"
   ]
  },
  {
   "cell_type": "code",
   "execution_count": null,
   "metadata": {},
   "outputs": [],
   "source": [
    "def inspect(results1):\n",
    "    lhs         = [tuple(result1[2][0][0])[0] for result1 in results1]\n",
    "    rhs         = [tuple(result1[2][0][1])[0] for result1 in results1]\n",
    "    supports    = [result1[1] for result1 in results1]\n",
    "    confidences = [result1[2][0][2] for result1 in results1]\n",
    "    lifts       = [result1[2][0][3] for result1 in results1]\n",
    "    return list(zip(lhs, rhs, supports, confidences, lifts))\n",
    "resultsinDataFrame = pd.DataFrame(inspect(results1), columns = ['Left Hand Side', 'Right Hand Side', 'Support', 'Confidence', 'Lift'])"
   ]
  },
  {
   "cell_type": "code",
   "execution_count": null,
   "metadata": {},
   "outputs": [],
   "source": [
    "resultsinDataFrame"
   ]
  },
  {
   "cell_type": "code",
   "execution_count": null,
   "metadata": {},
   "outputs": [],
   "source": [
    "D2=Dataset.iloc[0:100,0:2]\n",
    "D2=Dataset[['gender',' Age']]\n",
    "print(D2)"
   ]
  },
  {
   "cell_type": "code",
   "execution_count": null,
   "metadata": {},
   "outputs": [],
   "source": [
    "transactions1 = []\n",
    "for i in range(0, 100):\n",
    "    transactions1.append([str(D2.values[i,j]) for j in range (0,2)])"
   ]
  },
  {
   "cell_type": "code",
   "execution_count": null,
   "metadata": {},
   "outputs": [],
   "source": [
    "from apyori import apriori\n",
    "rules1 = apriori(transactions=transactions1, min_support = 0.003, min_confidence = 0.2, min_lift = 2, min_length = 2)"
   ]
  },
  {
   "cell_type": "code",
   "execution_count": null,
   "metadata": {},
   "outputs": [],
   "source": [
    "results1 = list(rules1)"
   ]
  },
  {
   "cell_type": "code",
   "execution_count": null,
   "metadata": {},
   "outputs": [],
   "source": [
    "print(results1)"
   ]
  },
  {
   "cell_type": "code",
   "execution_count": null,
   "metadata": {},
   "outputs": [],
   "source": []
  },
  {
   "cell_type": "code",
   "execution_count": null,
   "metadata": {},
   "outputs": [],
   "source": [
    "resultsinDataFrame"
   ]
  },
  {
   "cell_type": "code",
   "execution_count": null,
   "metadata": {},
   "outputs": [],
   "source": [
    "D2=Dataset.iloc[0:100,0:2]\n",
    "D2=Dataset[['prices.amountMax', 'INCOME']]\n",
    "print(D2)"
   ]
  },
  {
   "cell_type": "code",
   "execution_count": null,
   "metadata": {},
   "outputs": [],
   "source": [
    "import numpy as np  \n",
    "import matplotlib.pyplot as plt  \n",
    "import pandas as pd  \n",
    "from apyori import apriori"
   ]
  },
  {
   "cell_type": "code",
   "execution_count": null,
   "metadata": {},
   "outputs": [],
   "source": [
    "movie_data = pd.read_csv('Fint.csv', header = None)\n",
    "num_records = len(movie_data)\n",
    "print(num_records)\n"
   ]
  },
  {
   "cell_type": "code",
   "execution_count": null,
   "metadata": {},
   "outputs": [],
   "source": [
    "records = []  \n",
    "for i in range(0, num_records):  \n",
    "    records.append([str(movie_data.values[i,j]) for j in range(0, 12)])"
   ]
  },
  {
   "cell_type": "code",
   "execution_count": null,
   "metadata": {},
   "outputs": [],
   "source": [
    "association_rules = apriori(records, min_support=0.003, min_confidence=0.20, min_lift=2, min_length=2)\n",
    "association_results = list(association_rules)"
   ]
  },
  {
   "cell_type": "code",
   "execution_count": null,
   "metadata": {},
   "outputs": [],
   "source": [
    "print(len(association_results))"
   ]
  },
  {
   "cell_type": "code",
   "execution_count": null,
   "metadata": {},
   "outputs": [],
   "source": [
    "print(association_results[0])"
   ]
  },
  {
   "cell_type": "code",
   "execution_count": null,
   "metadata": {},
   "outputs": [],
   "source": [
    "results = []\n",
    "for item in association_results:\n",
    "    \n",
    "    # first index of the inner list\n",
    "    # Contains base item and add item\n",
    "    pair = item[0] \n",
    "    items = [x for x in pair]\n",
    "    \n",
    "    value0 = str(items[0])\n",
    "    value1 = str(items[1])\n",
    "\n",
    "    #second index of the inner list\n",
    "    value2 = str(item[1])[:7]\n",
    "\n",
    "    #third index of the list located at 0th\n",
    "    #of the third index of the inner list\n",
    "\n",
    "    value3 = str(item[2][0][2])[:7]\n",
    "    value4 = str(item[2][0][3])[:7]\n",
    "    \n",
    "    rows = (value0, value1,value2,value3,value4)\n",
    "    results.append(rows)\n",
    "    \n",
    "labels = ['Title 1','Title 2','Support','Confidence','Lift']\n",
    "movie_suggestion = pd.DataFrame.from_records(results, columns = labels)\n",
    "\n",
    "print(movie_suggestion)"
   ]
  },
  {
   "cell_type": "code",
   "execution_count": null,
   "metadata": {},
   "outputs": [],
   "source": []
  }
 ],
 "metadata": {
  "kernelspec": {
   "display_name": "Python 3",
   "language": "python",
   "name": "python3"
  },
  "language_info": {
   "codemirror_mode": {
    "name": "ipython",
    "version": 3
   },
   "file_extension": ".py",
   "mimetype": "text/x-python",
   "name": "python",
   "nbconvert_exporter": "python",
   "pygments_lexer": "ipython3",
   "version": "3.7.1"
  }
 },
 "nbformat": 4,
 "nbformat_minor": 2
}
